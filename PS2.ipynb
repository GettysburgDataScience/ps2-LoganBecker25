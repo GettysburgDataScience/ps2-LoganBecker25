{
 "cells": [
  {
   "cell_type": "markdown",
   "metadata": {},
   "source": [
    "Logan Becker\n",
    " - Collaborator 1\n",
    " - Collaborator 2\n",
    " - etc"
   ]
  },
  {
   "cell_type": "markdown",
   "metadata": {},
   "source": [
    "DS325, Gettysburg College, Professor Eatai Roth\n",
    "# Problem Set 2 - Classification\n",
    "\n",
    "Due Friday Mar 28, 2025 4p\n",
    "\n",
    "Total pts: 30\n",
    "\n",
    "## IMPORTANT INSTRUCTIONS:\n",
    "\n",
    " - When you submit your code, make sure that every cell runs without returning an error.\n",
    " - Once you have the results you need, edit out any extraneous code and outputs.\n",
    " - *Do not rewrite code* if it doesn't need to be rewritten. For example, all the import statements you should need are in the first code block. Do not redo those in your analysis."
   ]
  },
  {
   "cell_type": "markdown",
   "metadata": {},
   "source": [
    "## Problem 1\n",
    "\n",
    "In this problem, you'll be comparing Logistic Regression, Decision Trees, and Random Forests in a task identifying mushrooms as edible or poisonous.\n",
    "The data is imported below and the features and feature values are listed. Notice, they're all letters.\n",
    "\n",
    " - Split the data into targets and features\n",
    " - Decide which features are ordinal or categorical. Refer to the feature descriptions on the [UCI Machine Learning site](https://archive.ics.uci.edu/dataset/73/mushroom) (hint: at least 3 categories are ordinal and others are binary...so you'll use an ordinal encoder)\n",
    " - Encode the features\n",
    " - Train the three models. You will want to use ```LogisticRegressionCV``` and ```GridSearchCV``` to find the best version of each model.\n",
    " - Make predictions with your models.\n",
    " - Show the confusion matrices for each type of model evaluated on the same test set. Label each figure clearly as to which model it is."
   ]
  },
  {
   "cell_type": "code",
   "execution_count": 2,
   "metadata": {},
   "outputs": [],
   "source": [
    "#Importing packages \n",
    "import pandas as pd\n",
    "import numpy as np\n",
    "import matplotlib.pyplot as plt\n",
    "import seaborn as sns\n",
    "\n",
    "from sklearn.tree import DecisionTreeClassifier, plot_tree\n",
    "from sklearn.preprocessing import OneHotEncoder, OrdinalEncoder, LabelEncoder, StandardScaler\n",
    "from sklearn.compose import ColumnTransformer\n",
    "from sklearn.model_selection import GridSearchCV, train_test_split\n",
    "from sklearn.metrics import confusion_matrix, ConfusionMatrixDisplay"
   ]
  },
  {
   "cell_type": "code",
   "execution_count": 3,
   "metadata": {},
   "outputs": [
    {
     "name": "stdout",
     "output_type": "stream",
     "text": [
      "  0. type - ['p' 'e']\n",
      "  1. cap_shape - ['x' 'b' 's' 'f' 'k' 'c']\n",
      "  2. cap_surface - ['s' 'y' 'f' 'g']\n",
      "  3. cap_color - ['n' 'y' 'w' 'g' 'e' 'p' 'b' 'u' 'c' 'r']\n",
      "  4. bruises - ['t' 'f']\n",
      "  5. odor - ['p' 'a' 'l' 'n' 'f' 'c' 'y' 's' 'm']\n",
      "  6. gill_attachment - ['f' 'a']\n",
      "  7. gill_spacing - ['c' 'w']\n",
      "  8. gill_size - ['n' 'b']\n",
      "  9. gill_color - ['k' 'n' 'g' 'p' 'w' 'h' 'u' 'e' 'b' 'r' 'y' 'o']\n",
      " 10. stalk_shape - ['e' 't']\n",
      " 11. stalk_root - ['e' 'c' 'b' 'r' '?']\n",
      " 12. stalk_surface_above_ring - ['s' 'f' 'k' 'y']\n",
      " 13. stalk_surface_below_ring - ['s' 'f' 'y' 'k']\n",
      " 14. stalk_color_above_ring - ['w' 'g' 'p' 'n' 'b' 'e' 'o' 'c' 'y']\n",
      " 15. stalk_color_below_ring - ['w' 'p' 'g' 'b' 'n' 'e' 'y' 'o' 'c']\n",
      " 16. veil_type - ['p']\n",
      " 17. veil_color - ['w' 'n' 'o' 'y']\n",
      " 18. ring_number - ['o' 't' 'n']\n",
      " 19. ring_type - ['p' 'e' 'l' 'f' 'n']\n",
      " 20. spore_print_color - ['k' 'n' 'u' 'h' 'w' 'r' 'o' 'y' 'b']\n",
      " 21. population - ['s' 'n' 'a' 'v' 'y' 'c']\n",
      " 22. habitat - ['u' 'g' 'm' 'd' 'p' 'w' 'l']\n"
     ]
    }
   ],
   "source": [
    "mushrooms_df = pd.read_csv('https://raw.githubusercontent.com/stedy/Machine-Learning-with-R-datasets/refs/heads/master/mushrooms.csv')\n",
    "\n",
    "for k, col in enumerate(mushrooms_df.columns):\n",
    "    print(f'{k:>3}. {col} - {mushrooms_df[col].unique()}')"
   ]
  },
  {
   "cell_type": "code",
   "execution_count": null,
   "metadata": {},
   "outputs": [],
   "source": [
    "'''your code here. add cells as needed'''\n",
    "#Odinal deatures = gill spacing, gill size, bruises, ring number, stalk shape, population "
   ]
  },
  {
   "cell_type": "markdown",
   "metadata": {},
   "source": [
    "### Problem 1 questions\n",
    "\n",
    " - Which model was best?\n",
    " - What were the hyper-parameters of this model.\n",
    " - What were the accuracy, recall, and precision of the model.\n",
    " - Of accuracy, recall, precision, which did you use to decide the best model."
   ]
  },
  {
   "cell_type": "markdown",
   "metadata": {},
   "source": [
    "#### Your responses here:\n",
    "\n",
    "- Which model: \n",
    "- Hyper-parameters:\n",
    "- Metrics\n",
    "    - Accuracy:\n",
    "    - Recall:\n",
    "    - Precision:\n",
    "- How did you decide best? "
   ]
  },
  {
   "cell_type": "markdown",
   "metadata": {},
   "source": [
    "## Problem 2\n",
    "\n",
    "The NFL draft is coming up at the end of April. This is when NFL teams get to select college players to join their team. The draft comprises seven rounds over three days (day 1: round 1, day 2: rounds 2 and 3, day 3: rounds 4, 5, 6, 7) with teams taking turns selecting players. Better players tend to go in earlier rounds.\n",
    "\n",
    "In this problem, you will try to predict whether defensive players are drafted on Day 1, 2, or 3 based on their performance in the NFL combine (an assay of physical skills).\n",
    "\n",
    "The data are imported below.\n",
    "\n",
    " - Create a target variable for day 1, day 2, day 3 based on the round drafted.\n",
    " - Create the most accurate predictor you can using any method or subset of the data you choose. *You may not use round as a feature!*\n",
    " - Show the confusion matrix for your model and list the accuracy of your model."
   ]
  },
  {
   "cell_type": "code",
   "execution_count": null,
   "metadata": {},
   "outputs": [],
   "source": [
    "nfl_draft = pd.read_csv('https://raw.githubusercontent.com/eatai/datasets/refs/heads/main/nfl_defensive_draft.csv')"
   ]
  },
  {
   "cell_type": "markdown",
   "metadata": {},
   "source": [
    "### Problem 2 Questions\n",
    "\n",
    " - Which kind of model did you use and why did you choose it?\n",
    " - What was your accuracy?"
   ]
  }
 ],
 "metadata": {
  "kernelspec": {
   "display_name": "base",
   "language": "python",
   "name": "python3"
  },
  "language_info": {
   "codemirror_mode": {
    "name": "ipython",
    "version": 3
   },
   "file_extension": ".py",
   "mimetype": "text/x-python",
   "name": "python",
   "nbconvert_exporter": "python",
   "pygments_lexer": "ipython3",
   "version": "3.12.4"
  },
  "orig_nbformat": 4
 },
 "nbformat": 4,
 "nbformat_minor": 2
}
